{
  "nbformat": 4,
  "nbformat_minor": 0,
  "metadata": {
    "colab": {
      "provenance": [],
      "authorship_tag": "ABX9TyPcY3UoZ2mBeKERDSNAgmtG",
      "include_colab_link": true
    },
    "kernelspec": {
      "name": "python3",
      "display_name": "Python 3"
    },
    "language_info": {
      "name": "python"
    }
  },
  "cells": [
    {
      "cell_type": "markdown",
      "metadata": {
        "id": "view-in-github",
        "colab_type": "text"
      },
      "source": [
        "<a href=\"https://colab.research.google.com/github/RRavinderSS/Python-Basics-Assignments/blob/main/List_Practice.ipynb\" target=\"_parent\"><img src=\"https://colab.research.google.com/assets/colab-badge.svg\" alt=\"Open In Colab\"/></a>"
      ]
    },
    {
      "cell_type": "code",
      "source": [
        "\n",
        "mylist = []\n",
        "print(mylist)\n",
        "print(type(mylist))\n",
        "\n",
        "del mylist\n",
        "\n",
        "mylist = list(range(0,10))\n",
        "print(mylist)\n",
        "\n",
        "del mylist\n",
        "\n",
        "# mylist = eval(input(\"Enter the list items\"))\n",
        "# print(mylist)\n",
        "\n",
        "# del mylist\n",
        "\n",
        "exp = \"x*(x+1)+(x+2)\"\n",
        "x = 2\n",
        "print(exp)\n",
        "print(eval(exp))\n",
        "\n",
        "mystring = \"Learning is very very easy\"\n",
        "mylist = mystring.split()\n",
        "print(mylist)\n",
        "\n",
        "del mystring\n",
        "del mylist\n",
        "\n",
        "print('\\nPrinting list from range using n syntax:')\n",
        "mylist = list(range(0,11))\n",
        "print(mylist[1])\n",
        "print(mylist[2])\n",
        "print(mylist[5:11])\n",
        "\n",
        "\n",
        "\n"
      ],
      "metadata": {
        "colab": {
          "base_uri": "https://localhost:8080/"
        },
        "id": "aB9jEPwf_42O",
        "outputId": "178231d2-2009-4ab5-ad4f-be8d25010952"
      },
      "execution_count": 25,
      "outputs": [
        {
          "output_type": "stream",
          "name": "stdout",
          "text": [
            "[]\n",
            "<class 'list'>\n",
            "[0, 1, 2, 3, 4, 5, 6, 7, 8, 9]\n",
            "x*(x+1)+(x+2)\n",
            "10\n",
            "['Learning', 'is', 'very', 'very', 'easy']\n",
            "\n",
            "Printing list from range using n syntax:\n",
            "1\n",
            "2\n",
            "[5, 6, 7, 8, 9, 10]\n",
            "\n",
            " Printling the list values\n",
            "1\n",
            "1\n",
            "1\n",
            "1\n",
            "1\n",
            "1\n",
            "1\n",
            "1\n",
            "1\n",
            "1\n",
            "1\n"
          ]
        }
      ]
    },
    {
      "cell_type": "code",
      "source": [
        "print(\"\\n Printling the list values\")\n",
        "del mylist\n",
        "\n",
        "mylist= list(range(0,10))\n",
        "\n",
        "print(\"\\n Print using While loop\")\n",
        "i=0\n",
        "while i < len(mylist):\n",
        "  print(mylist[i])\n",
        "  i=i+1\n",
        "\n",
        "print(\"\\n print using for in loop\")\n",
        "for item in mylist:\n",
        "  print(item)"
      ],
      "metadata": {
        "colab": {
          "base_uri": "https://localhost:8080/"
        },
        "id": "epMPNQBLEFuD",
        "outputId": "a492b047-2910-43cb-963f-ea89f4d9a174"
      },
      "execution_count": 29,
      "outputs": [
        {
          "output_type": "stream",
          "name": "stdout",
          "text": [
            "\n",
            " Printling the list values\n",
            "\n",
            " Print using While loop\n",
            "0\n",
            "1\n",
            "2\n",
            "3\n",
            "4\n",
            "5\n",
            "6\n",
            "7\n",
            "8\n",
            "9\n",
            "\n",
            " print using for in loop\n",
            "0\n",
            "1\n",
            "2\n",
            "3\n",
            "4\n",
            "5\n",
            "6\n",
            "7\n",
            "8\n",
            "9\n"
          ]
        }
      ]
    },
    {
      "cell_type": "code",
      "source": [
        "del mylist\n",
        "mylist= list(range(1,11))\n",
        "print(mylist)\n",
        "\n",
        "for num in range(0,4):\n",
        "  print(num)"
      ],
      "metadata": {
        "colab": {
          "base_uri": "https://localhost:8080/"
        },
        "id": "Hntj9322EfZJ",
        "outputId": "ff833c46-afcc-440f-aca3-972ed1e8f9fd"
      },
      "execution_count": 30,
      "outputs": [
        {
          "output_type": "stream",
          "name": "stdout",
          "text": [
            "[1, 2, 3, 4, 5, 6, 7, 8, 9, 10]\n",
            "0\n",
            "1\n",
            "2\n",
            "3\n"
          ]
        }
      ]
    },
    {
      "cell_type": "code",
      "source": [
        "del mylist\n",
        "\n",
        "mylist= [\"a\",\"b\",\"c\"]\n",
        "x = len(mylist)\n",
        "\n",
        "for i in range(x):\n",
        "  print(f\"The value {mylist[i]} is located in positive index: {i} and negative index: {i-x}\")"
      ],
      "metadata": {
        "colab": {
          "base_uri": "https://localhost:8080/"
        },
        "id": "xR6ygCVNE3m5",
        "outputId": "b506cda7-d026-4364-cfda-a0f6061ae47c"
      },
      "execution_count": 31,
      "outputs": [
        {
          "output_type": "stream",
          "name": "stdout",
          "text": [
            "The value a is located in positive index: 0 and negative index: -3\n",
            "The value b is located in positive index: 1 and negative index: -2\n",
            "The value c is located in positive index: 2 and negative index: -1\n"
          ]
        }
      ]
    },
    {
      "cell_type": "code",
      "source": [
        "del mylist\n",
        "mylist = [1,2,2,2,3,4,4,4,5,5,6,6,6,7,7,88]\n",
        "\n",
        "print(mylist.count(1))\n",
        "print(mylist.count(2))\n",
        "print(mylist.count(4))\n",
        "\n",
        "print(len(mylist))\n",
        "\n",
        "print(mylist.index(6))\n",
        "\n",
        "mylist.append(99)\n",
        "mylist.append(100)\n",
        "mylist.insert(2,101)\n",
        "print(mylist)"
      ],
      "metadata": {
        "colab": {
          "base_uri": "https://localhost:8080/"
        },
        "id": "7tkivZ6GJOpE",
        "outputId": "c49f6991-fa64-4afc-b69f-208ac9d1f663"
      },
      "execution_count": 39,
      "outputs": [
        {
          "output_type": "stream",
          "name": "stdout",
          "text": [
            "1\n",
            "3\n",
            "3\n",
            "16\n",
            "10\n",
            "[1, 2, 101, 2, 2, 3, 4, 4, 4, 5, 5, 6, 6, 6, 7, 7, 88, 99, 100]\n"
          ]
        }
      ]
    },
    {
      "cell_type": "code",
      "source": [
        "\n",
        "mylist1 = [\"Ravi\",\"Nanu\",\"Manu\"]\n",
        "mylist2 = [\"sam\",\"ranjan\",\"jasu\"]\n",
        "\n",
        "print(mylist1)\n",
        "mylist1.extend(mylist2)\n",
        "print(mylist1)\n",
        "\n",
        "#mylist1.index\n",
        "#mylist1.count()\n",
        "#mylist1.append\n",
        "#mylist1.insert\n",
        "#mylist1.extend\n",
        "mylist1.append(\"jasu\")\n",
        "mylist1.append(\"jasu\")\n",
        "mylist1.remove(\"jasu\")\n",
        "mylist1.remove(\"jasu\")\n",
        "print(mylist1)"
      ],
      "metadata": {
        "colab": {
          "base_uri": "https://localhost:8080/"
        },
        "id": "ceDDj65WNXKH",
        "outputId": "da29c881-dc09-4419-b429-df963e7eab3a"
      },
      "execution_count": 47,
      "outputs": [
        {
          "output_type": "stream",
          "name": "stdout",
          "text": [
            "['Ravi', 'Nanu', 'Manu']\n",
            "['Ravi', 'Nanu', 'Manu', 'sam', 'ranjan', 'jasu']\n",
            "['Ravi', 'Nanu', 'Manu', 'sam', 'ranjan', 'jasu']\n"
          ]
        }
      ]
    },
    {
      "cell_type": "code",
      "source": [
        "\n",
        "mylist1 = [1,2,3,4,5]\n",
        "y= mylist1\n",
        "z= mylist1[:]\n",
        "\n",
        "print(id(y),id(mylist1))\n",
        "print(id(z))"
      ],
      "metadata": {
        "colab": {
          "base_uri": "https://localhost:8080/"
        },
        "id": "i3nzgPwvafHB",
        "outputId": "6d798a4b-15e2-44f4-da00-363fc8c00f2b"
      },
      "execution_count": 50,
      "outputs": [
        {
          "output_type": "stream",
          "name": "stdout",
          "text": [
            "134649121402816 134649121402816\n",
            "134649120092672\n"
          ]
        }
      ]
    },
    {
      "cell_type": "code",
      "source": [
        "x = [[10,20,30],[40,50,60],[70,80,90]]\n",
        "\n",
        "for item in range(len(x)):\n",
        "  print(x[item])\n",
        "\n",
        "for i in range(len(x)):\n",
        "  for j in range(len(x[i])):\n",
        "    print(x[i][j] ,end= ' ')\n",
        "  print()\n",
        "\n"
      ],
      "metadata": {
        "colab": {
          "base_uri": "https://localhost:8080/"
        },
        "id": "VOyqMoQBl-su",
        "outputId": "d774fdff-8a0d-4eb6-c482-98a7963261aa"
      },
      "execution_count": 57,
      "outputs": [
        {
          "output_type": "stream",
          "name": "stdout",
          "text": [
            "Hello Ravinder\n",
            "\n",
            "[10, 20, 30]\n",
            "[40, 50, 60]\n",
            "[70, 80, 90]\n",
            "10 20 30 \n",
            "40 50 60 \n",
            "70 80 90 \n"
          ]
        }
      ]
    },
    {
      "cell_type": "code",
      "source": [
        "s = [x*x for x in range(0,11)]\n",
        "print(s)\n",
        "\n",
        "z = [x for x in s if x%2 == 0]\n",
        "print(z)"
      ],
      "metadata": {
        "colab": {
          "base_uri": "https://localhost:8080/"
        },
        "id": "rHBQD_Lynptm",
        "outputId": "08267d96-a272-44e4-d4f5-1307af9f449f"
      },
      "execution_count": 59,
      "outputs": [
        {
          "output_type": "stream",
          "name": "stdout",
          "text": [
            "[0, 1, 4, 9, 16, 25, 36, 49, 64, 81, 100]\n",
            "[0, 4, 16, 36, 64, 100]\n"
          ]
        }
      ]
    },
    {
      "cell_type": "code",
      "source": [],
      "metadata": {
        "id": "2e929ctqBbxC"
      },
      "execution_count": null,
      "outputs": []
    }
  ]
}