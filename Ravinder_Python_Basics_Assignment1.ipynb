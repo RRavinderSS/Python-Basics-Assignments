{
  "nbformat": 4,
  "nbformat_minor": 0,
  "metadata": {
    "colab": {
      "provenance": [],
      "authorship_tag": "ABX9TyNJeq+Rq7yDDUG4BQbrERdH",
      "include_colab_link": true
    },
    "kernelspec": {
      "name": "python3",
      "display_name": "Python 3"
    },
    "language_info": {
      "name": "python"
    }
  },
  "cells": [
    {
      "cell_type": "markdown",
      "metadata": {
        "id": "view-in-github",
        "colab_type": "text"
      },
      "source": [
        "<a href=\"https://colab.research.google.com/github/RRavinderSS/Python-Basics-Assignments/blob/main/Ravinder_Python_Basics_Assignment1.ipynb\" target=\"_parent\"><img src=\"https://colab.research.google.com/assets/colab-badge.svg\" alt=\"Open In Colab\"/></a>"
      ]
    },
    {
      "cell_type": "markdown",
      "source": [
        "# **Problem 1**\n",
        "***In a cricket tournament, based on the outcome of a particular match a team gets following points:***\n",
        "\n",
        "**wins** gets **3** points\n",
        "**draws** gets **1** points\n",
        "**losses** gets **0** points\n",
        "\n",
        "Team Aravali plays 8 matches in this tournament. It wins 4 matches, loses 3 matches and draws 1. What is the total number of points gained by the Team Aravali?\n",
        "\n"
      ],
      "metadata": {
        "id": "n9UMf2sCvNa-"
      }
    },
    {
      "cell_type": "code",
      "source": [
        "wins = 4\n",
        "draws = 1\n",
        "losses = 3\n",
        "\n",
        "win_points =3\n",
        "draw_points = 1\n",
        "losses_points =0\n",
        "\n",
        "print(f\"Total Gain By Aravali Team = {wins * win_points + draws * draw_points + losses * losses_points}\")"
      ],
      "metadata": {
        "colab": {
          "base_uri": "https://localhost:8080/"
        },
        "id": "ryzT1u6IvPa5",
        "outputId": "cb017467-fb4b-41fe-b633-c6e4e7828ac4"
      },
      "execution_count": null,
      "outputs": [
        {
          "output_type": "stream",
          "name": "stdout",
          "text": [
            "Total Gain By Aravali Team = 13\n"
          ]
        }
      ]
    },
    {
      "cell_type": "markdown",
      "source": [
        "**Problem 2**"
      ],
      "metadata": {
        "id": "Eg3FghbbxYec"
      }
    },
    {
      "cell_type": "code",
      "source": [
        "def computeQuad(x):\n",
        "  f_x = x**2 + 3*x - 4\n",
        "  return f_x\n",
        "\n",
        "x = 2\n",
        "# Calculate the value of the function f(x) at x = 2\n",
        "func_evaluated_at_2 = computeQuad(x)\n",
        "print(f\"The value of the function f(x) at x = {x}: {func_evaluated_at_2}\")\n",
        "\n",
        "x = -1\n",
        "# Calculate the value of the function f(x) at x = -1\n",
        "func_evaluated_at_minus1 =  computeQuad(x)\n",
        "print(f\"The value of the function f(x) at x = {x}: {func_evaluated_at_minus1}\")\n",
        "\n",
        "x= 1\n",
        "# Calculate the value of the function f(x) at x = 1\n",
        "func_evaluated_at_1 = computeQuad(x)\n",
        "print(f\"The value of the function f(x) at x = {x}: {func_evaluated_at_1}\")\n",
        "\n",
        "## Return the boolean for each value of x to find out whether that value is a root of f(x) ##\n",
        "# Check whether 2 is a root of f(x)\n",
        "print(f\"{func_evaluated_at_2 == 0}\")\n",
        "\n",
        "# Check whether -1 is a root of f(x)\n",
        "print(f\"{func_evaluated_at_minus1 == 0}\")\n",
        "\n",
        "# Check whether 1 is a root of f(x)\n",
        "print(f\"{func_evaluated_at_1 == 0}\")\n"
      ],
      "metadata": {
        "colab": {
          "base_uri": "https://localhost:8080/"
        },
        "id": "4vdCpwq_xgl1",
        "outputId": "664b4a30-8840-4607-8e11-59bbccae5b68"
      },
      "execution_count": null,
      "outputs": [
        {
          "output_type": "stream",
          "name": "stdout",
          "text": [
            "The value of the function f(x) at x = 2: 6\n",
            "The value of the function f(x) at x = -1: -6\n",
            "The value of the function f(x) at x = 1: 0\n",
            "False\n",
            "False\n",
            "True\n"
          ]
        }
      ]
    },
    {
      "cell_type": "markdown",
      "source": [
        "**Problem 3**"
      ],
      "metadata": {
        "id": "zrk6b2pH0fxL"
      }
    },
    {
      "cell_type": "code",
      "source": [
        "apples =  45\n",
        "oranges = 65\n",
        "bananas = 30\n",
        "total_fruits = apples + oranges + bananas\n",
        "\n",
        "def getPercentage(val):\n",
        "  return val*100\n",
        "\n",
        "# Calculate the percentage of apples and print the variable\n",
        "print(f\"{getPercentage(apples/total_fruits):.2f}%\")\n",
        "# Calculate the percentage of oranges and print the variable\n",
        "print(f\"{getPercentage(oranges/total_fruits):.2f}%\")\n",
        "# Calculate the percentage of bananas and print the variable\n",
        "print(f\"{getPercentage(bananas/total_fruits):.2f}%\")"
      ],
      "metadata": {
        "colab": {
          "base_uri": "https://localhost:8080/"
        },
        "id": "MA5dVgp_0ivL",
        "outputId": "1b1392b3-7694-4f64-a267-eb9136f0dde8"
      },
      "execution_count": 16,
      "outputs": [
        {
          "output_type": "stream",
          "name": "stdout",
          "text": [
            "32.14%\n",
            "46.43%\n",
            "21.43%\n"
          ]
        }
      ]
    },
    {
      "cell_type": "markdown",
      "source": [
        "__Problem 4__"
      ],
      "metadata": {
        "id": "YOaa3E8x2aHB"
      }
    },
    {
      "cell_type": "code",
      "source": [
        "# Store the number of Maths majors\n",
        "Maths= 30\n",
        "\n",
        "# Store the number of Economics majors\n",
        "Economic = 45\n",
        "\n",
        "# Store the number of Physics majors\n",
        "Physics =25\n",
        "\n",
        "# Store the number of your correct guesses of Maths majors\n",
        "Myguess_maths = 20\n",
        "\n",
        "# Store the number of your correct guesses of Economics majors\n",
        "Myguess_eco = 30\n",
        "\n",
        "# Store the number of your correct guesses of Physics majors\n",
        "Myguess_phy = 20\n",
        "\n",
        "Total_P = 100\n",
        "\n",
        "\n",
        "def getAcuracy(guess):\n",
        "  return (guess/Total_P)* 100\n",
        "\n",
        "# Print the Maths accuracy\n",
        "print(f\"{getAcuracy(Myguess_maths):.1f}%\")\n",
        "# Print the Economics accuracy\n",
        "print(f\"{getAcuracy(Myguess_eco):.1f}%\")\n",
        "# Print the Physics accuracy\n",
        "print(f\"{getAcuracy(Myguess_phy):.1f}%\")\n",
        "\n",
        "# Print the overall accuracy\n",
        "print(f\"{getAcuracy(Myguess_maths + Myguess_eco + Myguess_phy):.1f}%\")"
      ],
      "metadata": {
        "colab": {
          "base_uri": "https://localhost:8080/"
        },
        "id": "dN0eFKYq2eKj",
        "outputId": "6eb8bf99-82e2-4b93-949c-b074ea8bf86c"
      },
      "execution_count": 9,
      "outputs": [
        {
          "output_type": "stream",
          "name": "stdout",
          "text": [
            "20.0%\n",
            "30.0%\n",
            "20.0%\n",
            "70.0%\n"
          ]
        }
      ]
    },
    {
      "cell_type": "markdown",
      "source": [],
      "metadata": {
        "id": "5HD63jk1vMiK"
      }
    }
  ]
}