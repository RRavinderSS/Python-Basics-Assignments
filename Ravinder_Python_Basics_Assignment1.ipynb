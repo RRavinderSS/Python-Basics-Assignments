{
  "nbformat": 4,
  "nbformat_minor": 0,
  "metadata": {
    "colab": {
      "provenance": [],
      "authorship_tag": "ABX9TyNQGyeDyieCaDni4oI7QoEV",
      "include_colab_link": true
    },
    "kernelspec": {
      "name": "python3",
      "display_name": "Python 3"
    },
    "language_info": {
      "name": "python"
    }
  },
  "cells": [
    {
      "cell_type": "markdown",
      "metadata": {
        "id": "view-in-github",
        "colab_type": "text"
      },
      "source": [
        "<a href=\"https://colab.research.google.com/github/RRavinderSS/Python-Basics-Assignments/blob/main/Ravinder_Python_Basics_Assignment1.ipynb\" target=\"_parent\"><img src=\"https://colab.research.google.com/assets/colab-badge.svg\" alt=\"Open In Colab\"/></a>"
      ]
    },
    {
      "cell_type": "markdown",
      "source": [
        "# **Problem 1**\n",
        "***In a cricket tournament, based on the outcome of a particular match a team gets following points:***\n",
        "\n",
        "**wins** gets **3** points\n",
        "**draws** gets **1** points\n",
        "**losses** gets **0** points\n",
        "\n",
        "Team Aravali plays 8 matches in this tournament. It wins 4 matches, loses 3 matches and draws 1. What is the total number of points gained by the Team Aravali?\n",
        "\n"
      ],
      "metadata": {
        "id": "n9UMf2sCvNa-"
      }
    },
    {
      "cell_type": "code",
      "source": [
        "wins = 4\n",
        "draws = 1\n",
        "losses = 3\n",
        "\n",
        "win_points =3\n",
        "draw_points = 1\n",
        "losses_points =0\n",
        "\n",
        "print(f\"Total Gain By Aravali Team = {wins * win_points + draws * draw_points + losses * losses_points}\")"
      ],
      "metadata": {
        "colab": {
          "base_uri": "https://localhost:8080/"
        },
        "id": "ryzT1u6IvPa5",
        "outputId": "cb017467-fb4b-41fe-b633-c6e4e7828ac4"
      },
      "execution_count": 1,
      "outputs": [
        {
          "output_type": "stream",
          "name": "stdout",
          "text": [
            "Total Gain By Aravali Team = 13\n"
          ]
        }
      ]
    },
    {
      "cell_type": "markdown",
      "source": [
        "**Problem 2**"
      ],
      "metadata": {
        "id": "Eg3FghbbxYec"
      }
    },
    {
      "cell_type": "code",
      "source": [
        "def computeQuad(x):\n",
        "  f_x = x**2 + 3*x - 4\n",
        "  return f_x\n",
        "\n",
        "x = 2\n",
        "# Calculate the value of the function f(x) at x = 2\n",
        "func_evaluated_at_2 = computeQuad(x)\n",
        "print(f\"The value of the function f(x) at x = {x}: {func_evaluated_at_2}\")\n",
        "\n",
        "x = -1\n",
        "# Calculate the value of the function f(x) at x = -1\n",
        "func_evaluated_at_minus1 =  computeQuad(x)\n",
        "print(f\"The value of the function f(x) at x = {x}: {func_evaluated_at_minus1}\")\n",
        "\n",
        "x= 1\n",
        "# Calculate the value of the function f(x) at x = 1\n",
        "func_evaluated_at_1 = computeQuad(x)\n",
        "print(f\"The value of the function f(x) at x = {x}: {func_evaluated_at_1}\")\n",
        "\n",
        "\n"
      ],
      "metadata": {
        "colab": {
          "base_uri": "https://localhost:8080/"
        },
        "id": "4vdCpwq_xgl1",
        "outputId": "fd2886c0-10d9-471c-900e-3e07f33678f0"
      },
      "execution_count": 2,
      "outputs": [
        {
          "output_type": "stream",
          "name": "stdout",
          "text": [
            "The value of the function f(x) at x = 2: 6\n",
            "The value of the function f(x) at x = -1: -6\n",
            "The value of the function f(x) at x = 1: 0\n"
          ]
        }
      ]
    },
    {
      "cell_type": "markdown",
      "source": [],
      "metadata": {
        "id": "5HD63jk1vMiK"
      }
    }
  ]
}